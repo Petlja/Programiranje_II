{
 "cells": [
  {
   "cell_type": "code",
   "execution_count": 1,
   "id": "3d645211-103b-4cb9-9635-6a10c6f1c6e5",
   "metadata": {},
   "outputs": [],
   "source": [
    "podaci = [[\"Ana\",     \"ž\", 13, 46, 160],\n",
    "          [\"Bojan\",   \"m\", 14, 52, 165],\n",
    "          [\"Vlada\",   \"m\", 13, 47, 157],\n",
    "          [\"Gordana\", \"ž\", 15, 54, 165],\n",
    "          [\"Dejan\",   \"m\", 15, 56, 163],\n",
    "          [\"Đorđe\",   \"m\", 13, 45, 159],\n",
    "          [\"Elena\",   \"ž\", 14, 49, 161],\n",
    "          [\"Žaklina\", \"ž\", 15, 52, 164],\n",
    "          [\"Zoran\",   \"m\", 15, 57, 167],\n",
    "          [\"Ivana\",   \"ž\", 13, 45, 158],\n",
    "          [\"Jasna\",   \"ž\", 14, 51, 162]]"
   ]
  },
  {
   "cell_type": "code",
   "execution_count": 2,
   "id": "66529d2d-7fc5-448f-afeb-d932efd18af1",
   "metadata": {},
   "outputs": [
    {
     "data": {
      "text/plain": [
       "['Dejan', 'm', 15, 56, 163]"
      ]
     },
     "execution_count": 2,
     "metadata": {},
     "output_type": "execute_result"
    }
   ],
   "source": [
    "podaci[4]"
   ]
  },
  {
   "cell_type": "code",
   "execution_count": 5,
   "id": "bfd6b599-744b-4153-a4d2-f8b02668bd29",
   "metadata": {},
   "outputs": [
    {
     "data": {
      "text/plain": [
       "161.9090909090909"
      ]
     },
     "execution_count": 5,
     "metadata": {},
     "output_type": "execute_result"
    }
   ],
   "source": [
    "sum = 0\n",
    "for dete in podaci:\n",
    "    sum += dete[4]\n",
    "sum/len(podaci)"
   ]
  },
  {
   "cell_type": "code",
   "execution_count": 6,
   "id": "5e035ae9-8443-480f-bf71-bb1395604278",
   "metadata": {},
   "outputs": [],
   "source": [
    "import pandas as pd"
   ]
  },
  {
   "cell_type": "code",
   "execution_count": 7,
   "id": "1ddeeb14-1bb6-496e-a19d-21157acc24ec",
   "metadata": {},
   "outputs": [],
   "source": [
    "tabela = pd.DataFrame(podaci)"
   ]
  },
  {
   "cell_type": "code",
   "execution_count": 8,
   "id": "d850c9bf-7a9c-49cf-99f1-786e93ededa5",
   "metadata": {},
   "outputs": [
    {
     "data": {
      "text/html": [
       "<div>\n",
       "<style scoped>\n",
       "    .dataframe tbody tr th:only-of-type {\n",
       "        vertical-align: middle;\n",
       "    }\n",
       "\n",
       "    .dataframe tbody tr th {\n",
       "        vertical-align: top;\n",
       "    }\n",
       "\n",
       "    .dataframe thead th {\n",
       "        text-align: right;\n",
       "    }\n",
       "</style>\n",
       "<table border=\"1\" class=\"dataframe\">\n",
       "  <thead>\n",
       "    <tr style=\"text-align: right;\">\n",
       "      <th></th>\n",
       "      <th>0</th>\n",
       "      <th>1</th>\n",
       "      <th>2</th>\n",
       "      <th>3</th>\n",
       "      <th>4</th>\n",
       "    </tr>\n",
       "  </thead>\n",
       "  <tbody>\n",
       "    <tr>\n",
       "      <th>0</th>\n",
       "      <td>Ana</td>\n",
       "      <td>ž</td>\n",
       "      <td>13</td>\n",
       "      <td>46</td>\n",
       "      <td>160</td>\n",
       "    </tr>\n",
       "    <tr>\n",
       "      <th>1</th>\n",
       "      <td>Bojan</td>\n",
       "      <td>m</td>\n",
       "      <td>14</td>\n",
       "      <td>52</td>\n",
       "      <td>165</td>\n",
       "    </tr>\n",
       "    <tr>\n",
       "      <th>2</th>\n",
       "      <td>Vlada</td>\n",
       "      <td>m</td>\n",
       "      <td>13</td>\n",
       "      <td>47</td>\n",
       "      <td>157</td>\n",
       "    </tr>\n",
       "    <tr>\n",
       "      <th>3</th>\n",
       "      <td>Gordana</td>\n",
       "      <td>ž</td>\n",
       "      <td>15</td>\n",
       "      <td>54</td>\n",
       "      <td>165</td>\n",
       "    </tr>\n",
       "    <tr>\n",
       "      <th>4</th>\n",
       "      <td>Dejan</td>\n",
       "      <td>m</td>\n",
       "      <td>15</td>\n",
       "      <td>56</td>\n",
       "      <td>163</td>\n",
       "    </tr>\n",
       "    <tr>\n",
       "      <th>5</th>\n",
       "      <td>Đorđe</td>\n",
       "      <td>m</td>\n",
       "      <td>13</td>\n",
       "      <td>45</td>\n",
       "      <td>159</td>\n",
       "    </tr>\n",
       "    <tr>\n",
       "      <th>6</th>\n",
       "      <td>Elena</td>\n",
       "      <td>ž</td>\n",
       "      <td>14</td>\n",
       "      <td>49</td>\n",
       "      <td>161</td>\n",
       "    </tr>\n",
       "    <tr>\n",
       "      <th>7</th>\n",
       "      <td>Žaklina</td>\n",
       "      <td>ž</td>\n",
       "      <td>15</td>\n",
       "      <td>52</td>\n",
       "      <td>164</td>\n",
       "    </tr>\n",
       "    <tr>\n",
       "      <th>8</th>\n",
       "      <td>Zoran</td>\n",
       "      <td>m</td>\n",
       "      <td>15</td>\n",
       "      <td>57</td>\n",
       "      <td>167</td>\n",
       "    </tr>\n",
       "    <tr>\n",
       "      <th>9</th>\n",
       "      <td>Ivana</td>\n",
       "      <td>ž</td>\n",
       "      <td>13</td>\n",
       "      <td>45</td>\n",
       "      <td>158</td>\n",
       "    </tr>\n",
       "    <tr>\n",
       "      <th>10</th>\n",
       "      <td>Jasna</td>\n",
       "      <td>ž</td>\n",
       "      <td>14</td>\n",
       "      <td>51</td>\n",
       "      <td>162</td>\n",
       "    </tr>\n",
       "  </tbody>\n",
       "</table>\n",
       "</div>"
      ],
      "text/plain": [
       "          0  1   2   3    4\n",
       "0       Ana  ž  13  46  160\n",
       "1     Bojan  m  14  52  165\n",
       "2     Vlada  m  13  47  157\n",
       "3   Gordana  ž  15  54  165\n",
       "4     Dejan  m  15  56  163\n",
       "5     Đorđe  m  13  45  159\n",
       "6     Elena  ž  14  49  161\n",
       "7   Žaklina  ž  15  52  164\n",
       "8     Zoran  m  15  57  167\n",
       "9     Ivana  ž  13  45  158\n",
       "10    Jasna  ž  14  51  162"
      ]
     },
     "execution_count": 8,
     "metadata": {},
     "output_type": "execute_result"
    }
   ],
   "source": [
    "tabela"
   ]
  },
  {
   "cell_type": "code",
   "execution_count": 9,
   "id": "59fe661d-f590-43ef-adf7-08adc81cf99b",
   "metadata": {},
   "outputs": [
    {
     "data": {
      "text/html": [
       "<div>\n",
       "<style scoped>\n",
       "    .dataframe tbody tr th:only-of-type {\n",
       "        vertical-align: middle;\n",
       "    }\n",
       "\n",
       "    .dataframe tbody tr th {\n",
       "        vertical-align: top;\n",
       "    }\n",
       "\n",
       "    .dataframe thead th {\n",
       "        text-align: right;\n",
       "    }\n",
       "</style>\n",
       "<table border=\"1\" class=\"dataframe\">\n",
       "  <thead>\n",
       "    <tr style=\"text-align: right;\">\n",
       "      <th></th>\n",
       "      <th>Ime</th>\n",
       "      <th>Pol</th>\n",
       "      <th>Starost</th>\n",
       "      <th>Masa</th>\n",
       "      <th>Visina</th>\n",
       "    </tr>\n",
       "  </thead>\n",
       "  <tbody>\n",
       "    <tr>\n",
       "      <th>0</th>\n",
       "      <td>Ana</td>\n",
       "      <td>ž</td>\n",
       "      <td>13</td>\n",
       "      <td>46</td>\n",
       "      <td>160</td>\n",
       "    </tr>\n",
       "    <tr>\n",
       "      <th>1</th>\n",
       "      <td>Bojan</td>\n",
       "      <td>m</td>\n",
       "      <td>14</td>\n",
       "      <td>52</td>\n",
       "      <td>165</td>\n",
       "    </tr>\n",
       "    <tr>\n",
       "      <th>2</th>\n",
       "      <td>Vlada</td>\n",
       "      <td>m</td>\n",
       "      <td>13</td>\n",
       "      <td>47</td>\n",
       "      <td>157</td>\n",
       "    </tr>\n",
       "    <tr>\n",
       "      <th>3</th>\n",
       "      <td>Gordana</td>\n",
       "      <td>ž</td>\n",
       "      <td>15</td>\n",
       "      <td>54</td>\n",
       "      <td>165</td>\n",
       "    </tr>\n",
       "    <tr>\n",
       "      <th>4</th>\n",
       "      <td>Dejan</td>\n",
       "      <td>m</td>\n",
       "      <td>15</td>\n",
       "      <td>56</td>\n",
       "      <td>163</td>\n",
       "    </tr>\n",
       "    <tr>\n",
       "      <th>5</th>\n",
       "      <td>Đorđe</td>\n",
       "      <td>m</td>\n",
       "      <td>13</td>\n",
       "      <td>45</td>\n",
       "      <td>159</td>\n",
       "    </tr>\n",
       "    <tr>\n",
       "      <th>6</th>\n",
       "      <td>Elena</td>\n",
       "      <td>ž</td>\n",
       "      <td>14</td>\n",
       "      <td>49</td>\n",
       "      <td>161</td>\n",
       "    </tr>\n",
       "    <tr>\n",
       "      <th>7</th>\n",
       "      <td>Žaklina</td>\n",
       "      <td>ž</td>\n",
       "      <td>15</td>\n",
       "      <td>52</td>\n",
       "      <td>164</td>\n",
       "    </tr>\n",
       "    <tr>\n",
       "      <th>8</th>\n",
       "      <td>Zoran</td>\n",
       "      <td>m</td>\n",
       "      <td>15</td>\n",
       "      <td>57</td>\n",
       "      <td>167</td>\n",
       "    </tr>\n",
       "    <tr>\n",
       "      <th>9</th>\n",
       "      <td>Ivana</td>\n",
       "      <td>ž</td>\n",
       "      <td>13</td>\n",
       "      <td>45</td>\n",
       "      <td>158</td>\n",
       "    </tr>\n",
       "    <tr>\n",
       "      <th>10</th>\n",
       "      <td>Jasna</td>\n",
       "      <td>ž</td>\n",
       "      <td>14</td>\n",
       "      <td>51</td>\n",
       "      <td>162</td>\n",
       "    </tr>\n",
       "  </tbody>\n",
       "</table>\n",
       "</div>"
      ],
      "text/plain": [
       "        Ime Pol  Starost  Masa  Visina\n",
       "0       Ana   ž       13    46     160\n",
       "1     Bojan   m       14    52     165\n",
       "2     Vlada   m       13    47     157\n",
       "3   Gordana   ž       15    54     165\n",
       "4     Dejan   m       15    56     163\n",
       "5     Đorđe   m       13    45     159\n",
       "6     Elena   ž       14    49     161\n",
       "7   Žaklina   ž       15    52     164\n",
       "8     Zoran   m       15    57     167\n",
       "9     Ivana   ž       13    45     158\n",
       "10    Jasna   ž       14    51     162"
      ]
     },
     "execution_count": 9,
     "metadata": {},
     "output_type": "execute_result"
    }
   ],
   "source": [
    "tabela = pd.DataFrame(podaci)\n",
    "tabela.columns=[\"Ime\", \"Pol\", \"Starost\", \"Masa\", \"Visina\"]\n",
    "tabela"
   ]
  },
  {
   "cell_type": "code",
   "execution_count": 10,
   "id": "3d137fb3-b34d-4e0a-b32e-5cc952f457fe",
   "metadata": {},
   "outputs": [
    {
     "data": {
      "text/plain": [
       "0         Ana\n",
       "1       Bojan\n",
       "2       Vlada\n",
       "3     Gordana\n",
       "4       Dejan\n",
       "5       Đorđe\n",
       "6       Elena\n",
       "7     Žaklina\n",
       "8       Zoran\n",
       "9       Ivana\n",
       "10      Jasna\n",
       "Name: Ime, dtype: object"
      ]
     },
     "execution_count": 10,
     "metadata": {},
     "output_type": "execute_result"
    }
   ],
   "source": [
    "tabela[\"Ime\"]"
   ]
  },
  {
   "cell_type": "code",
   "execution_count": 11,
   "id": "19bba34e-e4a9-4382-bd7d-97ff7b7966d9",
   "metadata": {},
   "outputs": [
    {
     "data": {
      "text/plain": [
       "0     160\n",
       "1     165\n",
       "2     157\n",
       "3     165\n",
       "4     163\n",
       "5     159\n",
       "6     161\n",
       "7     164\n",
       "8     167\n",
       "9     158\n",
       "10    162\n",
       "Name: Visina, dtype: int64"
      ]
     },
     "execution_count": 11,
     "metadata": {},
     "output_type": "execute_result"
    }
   ],
   "source": [
    "tabela[\"Visina\"]"
   ]
  },
  {
   "cell_type": "code",
   "execution_count": 12,
   "id": "2b8994dd-8ed6-4d94-b96a-85b88620711e",
   "metadata": {},
   "outputs": [
    {
     "data": {
      "text/plain": [
       "Index(['Ime', 'Pol', 'Starost', 'Masa', 'Visina'], dtype='object')"
      ]
     },
     "execution_count": 12,
     "metadata": {},
     "output_type": "execute_result"
    }
   ],
   "source": [
    "tabela.columns"
   ]
  },
  {
   "cell_type": "code",
   "execution_count": 13,
   "id": "2b1bb8ac-c315-4335-8486-bfcbc2dfb1c4",
   "metadata": {},
   "outputs": [
    {
     "data": {
      "text/plain": [
       "157"
      ]
     },
     "execution_count": 13,
     "metadata": {},
     "output_type": "execute_result"
    }
   ],
   "source": [
    "tabela[\"Visina\"].min()"
   ]
  },
  {
   "cell_type": "code",
   "execution_count": 14,
   "id": "2adac671-8174-4232-9a4c-475f37f7c664",
   "metadata": {},
   "outputs": [
    {
     "data": {
      "text/plain": [
       "15"
      ]
     },
     "execution_count": 14,
     "metadata": {},
     "output_type": "execute_result"
    }
   ],
   "source": [
    "tabela[\"Starost\"].max()"
   ]
  },
  {
   "cell_type": "code",
   "execution_count": 15,
   "id": "181bb582-ad8b-4ce1-b2ba-bb8c8c170fe1",
   "metadata": {},
   "outputs": [
    {
     "data": {
      "text/plain": [
       "161.9090909090909"
      ]
     },
     "execution_count": 15,
     "metadata": {},
     "output_type": "execute_result"
    }
   ],
   "source": [
    "tabela[\"Visina\"].mean()"
   ]
  },
  {
   "cell_type": "code",
   "execution_count": 16,
   "id": "6e743224-589e-4622-bd01-dd1c756f5058",
   "metadata": {},
   "outputs": [
    {
     "data": {
      "text/plain": [
       "162.0"
      ]
     },
     "execution_count": 16,
     "metadata": {},
     "output_type": "execute_result"
    }
   ],
   "source": [
    "tabela[\"Visina\"].median()"
   ]
  },
  {
   "cell_type": "code",
   "execution_count": 17,
   "id": "8572561e-8ec8-4469-9b33-c1164129af13",
   "metadata": {},
   "outputs": [
    {
     "name": "stdout",
     "output_type": "stream",
     "text": [
      "Mogu svi da stanu u lift.\n"
     ]
    }
   ],
   "source": [
    "if tabela[\"Masa\"].sum() <= 600:\n",
    "    print(\"Mogu svi da stanu u lift.\")\n",
    "else:\n",
    "    print(\"Ne. Zajedno su preteški.\")"
   ]
  },
  {
   "cell_type": "code",
   "execution_count": 19,
   "id": "ac74b67a-c735-40b5-bb88-28eeecda4f72",
   "metadata": {},
   "outputs": [],
   "source": [
    "import pandas as pd\n",
    "podaci = [[\"Ana\",     \"ž\", 13, 46, 160],\n",
    "          [\"Bojan\",   \"m\", 14, 52, 165],\n",
    "          [\"Vlada\",   \"m\", 13, 47, 157],\n",
    "          [\"Gordana\", \"ž\", 15, 54, 165],\n",
    "          [\"Dejan\",   \"m\", 15, 56, 163],\n",
    "          [\"Đorđe\",   \"m\", 13, 45, 159],\n",
    "          [\"Elena\",   \"ž\", 14, 49, 161],\n",
    "          [\"Žaklina\", \"ž\", 15, 52, 164],\n",
    "          [\"Zoran\",   \"m\", 15, 57, 167],\n",
    "          [\"Ivana\",   \"ž\", 13, 45, 158],\n",
    "          [\"Jasna\",   \"ž\", 14, 51, 162]]\n",
    "tabela = pd.DataFrame(podaci)\n",
    "tabela.columns=[\"Ime\", \"Pol\", \"Starost\", \"Masa\", \"Visina\"]\n",
    "tabela1=tabela.set_index(\"Ime\")"
   ]
  },
  {
   "cell_type": "code",
   "execution_count": 20,
   "id": "68bb86ee-2189-4adc-bdf2-0e15d39fd654",
   "metadata": {},
   "outputs": [
    {
     "data": {
      "text/html": [
       "<div>\n",
       "<style scoped>\n",
       "    .dataframe tbody tr th:only-of-type {\n",
       "        vertical-align: middle;\n",
       "    }\n",
       "\n",
       "    .dataframe tbody tr th {\n",
       "        vertical-align: top;\n",
       "    }\n",
       "\n",
       "    .dataframe thead th {\n",
       "        text-align: right;\n",
       "    }\n",
       "</style>\n",
       "<table border=\"1\" class=\"dataframe\">\n",
       "  <thead>\n",
       "    <tr style=\"text-align: right;\">\n",
       "      <th></th>\n",
       "      <th>Ime</th>\n",
       "      <th>Pol</th>\n",
       "      <th>Starost</th>\n",
       "      <th>Masa</th>\n",
       "      <th>Visina</th>\n",
       "    </tr>\n",
       "  </thead>\n",
       "  <tbody>\n",
       "    <tr>\n",
       "      <th>0</th>\n",
       "      <td>Ana</td>\n",
       "      <td>ž</td>\n",
       "      <td>13</td>\n",
       "      <td>46</td>\n",
       "      <td>160</td>\n",
       "    </tr>\n",
       "    <tr>\n",
       "      <th>1</th>\n",
       "      <td>Bojan</td>\n",
       "      <td>m</td>\n",
       "      <td>14</td>\n",
       "      <td>52</td>\n",
       "      <td>165</td>\n",
       "    </tr>\n",
       "    <tr>\n",
       "      <th>2</th>\n",
       "      <td>Vlada</td>\n",
       "      <td>m</td>\n",
       "      <td>13</td>\n",
       "      <td>47</td>\n",
       "      <td>157</td>\n",
       "    </tr>\n",
       "    <tr>\n",
       "      <th>3</th>\n",
       "      <td>Gordana</td>\n",
       "      <td>ž</td>\n",
       "      <td>15</td>\n",
       "      <td>54</td>\n",
       "      <td>165</td>\n",
       "    </tr>\n",
       "    <tr>\n",
       "      <th>4</th>\n",
       "      <td>Dejan</td>\n",
       "      <td>m</td>\n",
       "      <td>15</td>\n",
       "      <td>56</td>\n",
       "      <td>163</td>\n",
       "    </tr>\n",
       "    <tr>\n",
       "      <th>5</th>\n",
       "      <td>Đorđe</td>\n",
       "      <td>m</td>\n",
       "      <td>13</td>\n",
       "      <td>45</td>\n",
       "      <td>159</td>\n",
       "    </tr>\n",
       "    <tr>\n",
       "      <th>6</th>\n",
       "      <td>Elena</td>\n",
       "      <td>ž</td>\n",
       "      <td>14</td>\n",
       "      <td>49</td>\n",
       "      <td>161</td>\n",
       "    </tr>\n",
       "    <tr>\n",
       "      <th>7</th>\n",
       "      <td>Žaklina</td>\n",
       "      <td>ž</td>\n",
       "      <td>15</td>\n",
       "      <td>52</td>\n",
       "      <td>164</td>\n",
       "    </tr>\n",
       "    <tr>\n",
       "      <th>8</th>\n",
       "      <td>Zoran</td>\n",
       "      <td>m</td>\n",
       "      <td>15</td>\n",
       "      <td>57</td>\n",
       "      <td>167</td>\n",
       "    </tr>\n",
       "    <tr>\n",
       "      <th>9</th>\n",
       "      <td>Ivana</td>\n",
       "      <td>ž</td>\n",
       "      <td>13</td>\n",
       "      <td>45</td>\n",
       "      <td>158</td>\n",
       "    </tr>\n",
       "    <tr>\n",
       "      <th>10</th>\n",
       "      <td>Jasna</td>\n",
       "      <td>ž</td>\n",
       "      <td>14</td>\n",
       "      <td>51</td>\n",
       "      <td>162</td>\n",
       "    </tr>\n",
       "  </tbody>\n",
       "</table>\n",
       "</div>"
      ],
      "text/plain": [
       "        Ime Pol  Starost  Masa  Visina\n",
       "0       Ana   ž       13    46     160\n",
       "1     Bojan   m       14    52     165\n",
       "2     Vlada   m       13    47     157\n",
       "3   Gordana   ž       15    54     165\n",
       "4     Dejan   m       15    56     163\n",
       "5     Đorđe   m       13    45     159\n",
       "6     Elena   ž       14    49     161\n",
       "7   Žaklina   ž       15    52     164\n",
       "8     Zoran   m       15    57     167\n",
       "9     Ivana   ž       13    45     158\n",
       "10    Jasna   ž       14    51     162"
      ]
     },
     "execution_count": 20,
     "metadata": {},
     "output_type": "execute_result"
    }
   ],
   "source": [
    "tabela"
   ]
  },
  {
   "cell_type": "code",
   "execution_count": 21,
   "id": "c134714a-f056-4a55-974e-bb24b4def479",
   "metadata": {},
   "outputs": [
    {
     "data": {
      "text/html": [
       "<div>\n",
       "<style scoped>\n",
       "    .dataframe tbody tr th:only-of-type {\n",
       "        vertical-align: middle;\n",
       "    }\n",
       "\n",
       "    .dataframe tbody tr th {\n",
       "        vertical-align: top;\n",
       "    }\n",
       "\n",
       "    .dataframe thead th {\n",
       "        text-align: right;\n",
       "    }\n",
       "</style>\n",
       "<table border=\"1\" class=\"dataframe\">\n",
       "  <thead>\n",
       "    <tr style=\"text-align: right;\">\n",
       "      <th></th>\n",
       "      <th>Pol</th>\n",
       "      <th>Starost</th>\n",
       "      <th>Masa</th>\n",
       "      <th>Visina</th>\n",
       "    </tr>\n",
       "    <tr>\n",
       "      <th>Ime</th>\n",
       "      <th></th>\n",
       "      <th></th>\n",
       "      <th></th>\n",
       "      <th></th>\n",
       "    </tr>\n",
       "  </thead>\n",
       "  <tbody>\n",
       "    <tr>\n",
       "      <th>Ana</th>\n",
       "      <td>ž</td>\n",
       "      <td>13</td>\n",
       "      <td>46</td>\n",
       "      <td>160</td>\n",
       "    </tr>\n",
       "    <tr>\n",
       "      <th>Bojan</th>\n",
       "      <td>m</td>\n",
       "      <td>14</td>\n",
       "      <td>52</td>\n",
       "      <td>165</td>\n",
       "    </tr>\n",
       "    <tr>\n",
       "      <th>Vlada</th>\n",
       "      <td>m</td>\n",
       "      <td>13</td>\n",
       "      <td>47</td>\n",
       "      <td>157</td>\n",
       "    </tr>\n",
       "    <tr>\n",
       "      <th>Gordana</th>\n",
       "      <td>ž</td>\n",
       "      <td>15</td>\n",
       "      <td>54</td>\n",
       "      <td>165</td>\n",
       "    </tr>\n",
       "    <tr>\n",
       "      <th>Dejan</th>\n",
       "      <td>m</td>\n",
       "      <td>15</td>\n",
       "      <td>56</td>\n",
       "      <td>163</td>\n",
       "    </tr>\n",
       "    <tr>\n",
       "      <th>Đorđe</th>\n",
       "      <td>m</td>\n",
       "      <td>13</td>\n",
       "      <td>45</td>\n",
       "      <td>159</td>\n",
       "    </tr>\n",
       "    <tr>\n",
       "      <th>Elena</th>\n",
       "      <td>ž</td>\n",
       "      <td>14</td>\n",
       "      <td>49</td>\n",
       "      <td>161</td>\n",
       "    </tr>\n",
       "    <tr>\n",
       "      <th>Žaklina</th>\n",
       "      <td>ž</td>\n",
       "      <td>15</td>\n",
       "      <td>52</td>\n",
       "      <td>164</td>\n",
       "    </tr>\n",
       "    <tr>\n",
       "      <th>Zoran</th>\n",
       "      <td>m</td>\n",
       "      <td>15</td>\n",
       "      <td>57</td>\n",
       "      <td>167</td>\n",
       "    </tr>\n",
       "    <tr>\n",
       "      <th>Ivana</th>\n",
       "      <td>ž</td>\n",
       "      <td>13</td>\n",
       "      <td>45</td>\n",
       "      <td>158</td>\n",
       "    </tr>\n",
       "    <tr>\n",
       "      <th>Jasna</th>\n",
       "      <td>ž</td>\n",
       "      <td>14</td>\n",
       "      <td>51</td>\n",
       "      <td>162</td>\n",
       "    </tr>\n",
       "  </tbody>\n",
       "</table>\n",
       "</div>"
      ],
      "text/plain": [
       "        Pol  Starost  Masa  Visina\n",
       "Ime                               \n",
       "Ana       ž       13    46     160\n",
       "Bojan     m       14    52     165\n",
       "Vlada     m       13    47     157\n",
       "Gordana   ž       15    54     165\n",
       "Dejan     m       15    56     163\n",
       "Đorđe     m       13    45     159\n",
       "Elena     ž       14    49     161\n",
       "Žaklina   ž       15    52     164\n",
       "Zoran     m       15    57     167\n",
       "Ivana     ž       13    45     158\n",
       "Jasna     ž       14    51     162"
      ]
     },
     "execution_count": 21,
     "metadata": {},
     "output_type": "execute_result"
    }
   ],
   "source": [
    "tabela1"
   ]
  },
  {
   "cell_type": "code",
   "execution_count": 24,
   "id": "90013266-5fc3-432a-91b1-4d5cf83cb97a",
   "metadata": {},
   "outputs": [],
   "source": [
    "tabela1[\"Ime\"]"
   ]
  },
  {
   "cell_type": "code",
   "execution_count": 25,
   "id": "3cf888c7-1977-4db0-bfa0-ecbab6a8d744",
   "metadata": {},
   "outputs": [
    {
     "data": {
      "text/plain": [
       "Index(['Ana', 'Bojan', 'Vlada', 'Gordana', 'Dejan', 'Đorđe', 'Elena',\n",
       "       'Žaklina', 'Zoran', 'Ivana', 'Jasna'],\n",
       "      dtype='object', name='Ime')"
      ]
     },
     "execution_count": 25,
     "metadata": {},
     "output_type": "execute_result"
    }
   ],
   "source": [
    "tabela1.index"
   ]
  },
  {
   "cell_type": "code",
   "execution_count": 26,
   "id": "baa025e8-0335-4d12-b1c0-59df56281d3b",
   "metadata": {},
   "outputs": [
    {
     "data": {
      "text/plain": [
       "Pol          m\n",
       "Starost     15\n",
       "Masa        56\n",
       "Visina     163\n",
       "Name: Dejan, dtype: object"
      ]
     },
     "execution_count": 26,
     "metadata": {},
     "output_type": "execute_result"
    }
   ],
   "source": [
    "tabela1.loc[\"Dejan\"]"
   ]
  },
  {
   "cell_type": "code",
   "execution_count": 27,
   "id": "f1936e55-4681-4617-ade2-a549656c052e",
   "metadata": {},
   "outputs": [
    {
     "data": {
      "text/html": [
       "<div>\n",
       "<style scoped>\n",
       "    .dataframe tbody tr th:only-of-type {\n",
       "        vertical-align: middle;\n",
       "    }\n",
       "\n",
       "    .dataframe tbody tr th {\n",
       "        vertical-align: top;\n",
       "    }\n",
       "\n",
       "    .dataframe thead th {\n",
       "        text-align: right;\n",
       "    }\n",
       "</style>\n",
       "<table border=\"1\" class=\"dataframe\">\n",
       "  <thead>\n",
       "    <tr style=\"text-align: right;\">\n",
       "      <th></th>\n",
       "      <th>Pol</th>\n",
       "      <th>Starost</th>\n",
       "      <th>Masa</th>\n",
       "      <th>Visina</th>\n",
       "    </tr>\n",
       "    <tr>\n",
       "      <th>Ime</th>\n",
       "      <th></th>\n",
       "      <th></th>\n",
       "      <th></th>\n",
       "      <th></th>\n",
       "    </tr>\n",
       "  </thead>\n",
       "  <tbody>\n",
       "    <tr>\n",
       "      <th>Dejan</th>\n",
       "      <td>m</td>\n",
       "      <td>15</td>\n",
       "      <td>56</td>\n",
       "      <td>163</td>\n",
       "    </tr>\n",
       "    <tr>\n",
       "      <th>Đorđe</th>\n",
       "      <td>m</td>\n",
       "      <td>13</td>\n",
       "      <td>45</td>\n",
       "      <td>159</td>\n",
       "    </tr>\n",
       "    <tr>\n",
       "      <th>Elena</th>\n",
       "      <td>ž</td>\n",
       "      <td>14</td>\n",
       "      <td>49</td>\n",
       "      <td>161</td>\n",
       "    </tr>\n",
       "    <tr>\n",
       "      <th>Žaklina</th>\n",
       "      <td>ž</td>\n",
       "      <td>15</td>\n",
       "      <td>52</td>\n",
       "      <td>164</td>\n",
       "    </tr>\n",
       "    <tr>\n",
       "      <th>Zoran</th>\n",
       "      <td>m</td>\n",
       "      <td>15</td>\n",
       "      <td>57</td>\n",
       "      <td>167</td>\n",
       "    </tr>\n",
       "  </tbody>\n",
       "</table>\n",
       "</div>"
      ],
      "text/plain": [
       "        Pol  Starost  Masa  Visina\n",
       "Ime                               \n",
       "Dejan     m       15    56     163\n",
       "Đorđe     m       13    45     159\n",
       "Elena     ž       14    49     161\n",
       "Žaklina   ž       15    52     164\n",
       "Zoran     m       15    57     167"
      ]
     },
     "execution_count": 27,
     "metadata": {},
     "output_type": "execute_result"
    }
   ],
   "source": [
    "tabela1.loc[\"Dejan\":\"Zoran\"]"
   ]
  },
  {
   "cell_type": "code",
   "execution_count": 28,
   "id": "658a4dc4-5a44-48f4-8ee2-3f0e50bb83f6",
   "metadata": {},
   "outputs": [
    {
     "data": {
      "text/plain": [
       "163"
      ]
     },
     "execution_count": 28,
     "metadata": {},
     "output_type": "execute_result"
    }
   ],
   "source": [
    "tabela1.loc[\"Dejan\", \"Visina\"]"
   ]
  },
  {
   "cell_type": "code",
   "execution_count": 29,
   "id": "d086fdde-c316-4d29-b096-574065e623a8",
   "metadata": {},
   "outputs": [
    {
     "data": {
      "text/html": [
       "<div>\n",
       "<style scoped>\n",
       "    .dataframe tbody tr th:only-of-type {\n",
       "        vertical-align: middle;\n",
       "    }\n",
       "\n",
       "    .dataframe tbody tr th {\n",
       "        vertical-align: top;\n",
       "    }\n",
       "\n",
       "    .dataframe thead th {\n",
       "        text-align: right;\n",
       "    }\n",
       "</style>\n",
       "<table border=\"1\" class=\"dataframe\">\n",
       "  <thead>\n",
       "    <tr style=\"text-align: right;\">\n",
       "      <th></th>\n",
       "      <th>Masa</th>\n",
       "      <th>Visina</th>\n",
       "    </tr>\n",
       "    <tr>\n",
       "      <th>Ime</th>\n",
       "      <th></th>\n",
       "      <th></th>\n",
       "    </tr>\n",
       "  </thead>\n",
       "  <tbody>\n",
       "    <tr>\n",
       "      <th>Dejan</th>\n",
       "      <td>56</td>\n",
       "      <td>163</td>\n",
       "    </tr>\n",
       "    <tr>\n",
       "      <th>Đorđe</th>\n",
       "      <td>45</td>\n",
       "      <td>159</td>\n",
       "    </tr>\n",
       "    <tr>\n",
       "      <th>Elena</th>\n",
       "      <td>49</td>\n",
       "      <td>161</td>\n",
       "    </tr>\n",
       "    <tr>\n",
       "      <th>Žaklina</th>\n",
       "      <td>52</td>\n",
       "      <td>164</td>\n",
       "    </tr>\n",
       "    <tr>\n",
       "      <th>Zoran</th>\n",
       "      <td>57</td>\n",
       "      <td>167</td>\n",
       "    </tr>\n",
       "  </tbody>\n",
       "</table>\n",
       "</div>"
      ],
      "text/plain": [
       "         Masa  Visina\n",
       "Ime                  \n",
       "Dejan      56     163\n",
       "Đorđe      45     159\n",
       "Elena      49     161\n",
       "Žaklina    52     164\n",
       "Zoran      57     167"
      ]
     },
     "execution_count": 29,
     "metadata": {},
     "output_type": "execute_result"
    }
   ],
   "source": [
    "tabela1.loc[\"Dejan\":\"Zoran\", \"Masa\":\"Visina\"]"
   ]
  },
  {
   "cell_type": "code",
   "execution_count": 30,
   "id": "b90899b5-5cff-48bf-a4de-c8cb20014baa",
   "metadata": {},
   "outputs": [],
   "source": [
    "razred = [[\"Ana\",     5, 3, 5, 2, 4, 5],\n",
    "          [\"Bojan\",   5, 5, 5, 5, 5, 5],\n",
    "          [\"Vlada\",   4, 5, 3, 4, 5, 4],\n",
    "          [\"Gordana\", 5, 5, 5, 5, 5, 5],\n",
    "          [\"Dejan\",   3, 4, 2, 3, 3, 4],\n",
    "          [\"Đorđe\",   4, 5, 3, 4, 5, 4],\n",
    "          [\"Elena\",   3, 3, 3, 4, 2, 3],\n",
    "          [\"Žaklina\", 5, 5, 4, 5, 4, 5],\n",
    "          [\"Zoran\",   4, 5, 4, 4, 3, 5],\n",
    "          [\"Ivana\",   2, 2, 2, 2, 2, 5],\n",
    "          [\"Jasna\",   3, 4, 5, 4, 5, 5]]"
   ]
  },
  {
   "cell_type": "code",
   "execution_count": 31,
   "id": "9a098a60-334f-4113-9316-578b8418bb29",
   "metadata": {},
   "outputs": [
    {
     "data": {
      "text/html": [
       "<div>\n",
       "<style scoped>\n",
       "    .dataframe tbody tr th:only-of-type {\n",
       "        vertical-align: middle;\n",
       "    }\n",
       "\n",
       "    .dataframe tbody tr th {\n",
       "        vertical-align: top;\n",
       "    }\n",
       "\n",
       "    .dataframe thead th {\n",
       "        text-align: right;\n",
       "    }\n",
       "</style>\n",
       "<table border=\"1\" class=\"dataframe\">\n",
       "  <thead>\n",
       "    <tr style=\"text-align: right;\">\n",
       "      <th></th>\n",
       "      <th>Informatika</th>\n",
       "      <th>Engleski</th>\n",
       "      <th>Matematika</th>\n",
       "      <th>Fizika</th>\n",
       "      <th>Hemija</th>\n",
       "      <th>Likovno</th>\n",
       "    </tr>\n",
       "    <tr>\n",
       "      <th>Ime</th>\n",
       "      <th></th>\n",
       "      <th></th>\n",
       "      <th></th>\n",
       "      <th></th>\n",
       "      <th></th>\n",
       "      <th></th>\n",
       "    </tr>\n",
       "  </thead>\n",
       "  <tbody>\n",
       "    <tr>\n",
       "      <th>Ana</th>\n",
       "      <td>5</td>\n",
       "      <td>3</td>\n",
       "      <td>5</td>\n",
       "      <td>2</td>\n",
       "      <td>4</td>\n",
       "      <td>5</td>\n",
       "    </tr>\n",
       "    <tr>\n",
       "      <th>Bojan</th>\n",
       "      <td>5</td>\n",
       "      <td>5</td>\n",
       "      <td>5</td>\n",
       "      <td>5</td>\n",
       "      <td>5</td>\n",
       "      <td>5</td>\n",
       "    </tr>\n",
       "    <tr>\n",
       "      <th>Vlada</th>\n",
       "      <td>4</td>\n",
       "      <td>5</td>\n",
       "      <td>3</td>\n",
       "      <td>4</td>\n",
       "      <td>5</td>\n",
       "      <td>4</td>\n",
       "    </tr>\n",
       "    <tr>\n",
       "      <th>Gordana</th>\n",
       "      <td>5</td>\n",
       "      <td>5</td>\n",
       "      <td>5</td>\n",
       "      <td>5</td>\n",
       "      <td>5</td>\n",
       "      <td>5</td>\n",
       "    </tr>\n",
       "    <tr>\n",
       "      <th>Dejan</th>\n",
       "      <td>3</td>\n",
       "      <td>4</td>\n",
       "      <td>2</td>\n",
       "      <td>3</td>\n",
       "      <td>3</td>\n",
       "      <td>4</td>\n",
       "    </tr>\n",
       "    <tr>\n",
       "      <th>Đorđe</th>\n",
       "      <td>4</td>\n",
       "      <td>5</td>\n",
       "      <td>3</td>\n",
       "      <td>4</td>\n",
       "      <td>5</td>\n",
       "      <td>4</td>\n",
       "    </tr>\n",
       "    <tr>\n",
       "      <th>Elena</th>\n",
       "      <td>3</td>\n",
       "      <td>3</td>\n",
       "      <td>3</td>\n",
       "      <td>4</td>\n",
       "      <td>2</td>\n",
       "      <td>3</td>\n",
       "    </tr>\n",
       "    <tr>\n",
       "      <th>Žaklina</th>\n",
       "      <td>5</td>\n",
       "      <td>5</td>\n",
       "      <td>4</td>\n",
       "      <td>5</td>\n",
       "      <td>4</td>\n",
       "      <td>5</td>\n",
       "    </tr>\n",
       "    <tr>\n",
       "      <th>Zoran</th>\n",
       "      <td>4</td>\n",
       "      <td>5</td>\n",
       "      <td>4</td>\n",
       "      <td>4</td>\n",
       "      <td>3</td>\n",
       "      <td>5</td>\n",
       "    </tr>\n",
       "    <tr>\n",
       "      <th>Ivana</th>\n",
       "      <td>2</td>\n",
       "      <td>2</td>\n",
       "      <td>2</td>\n",
       "      <td>2</td>\n",
       "      <td>2</td>\n",
       "      <td>5</td>\n",
       "    </tr>\n",
       "    <tr>\n",
       "      <th>Jasna</th>\n",
       "      <td>3</td>\n",
       "      <td>4</td>\n",
       "      <td>5</td>\n",
       "      <td>4</td>\n",
       "      <td>5</td>\n",
       "      <td>5</td>\n",
       "    </tr>\n",
       "  </tbody>\n",
       "</table>\n",
       "</div>"
      ],
      "text/plain": [
       "         Informatika  Engleski  Matematika  Fizika  Hemija  Likovno\n",
       "Ime                                                                \n",
       "Ana                5         3           5       2       4        5\n",
       "Bojan              5         5           5       5       5        5\n",
       "Vlada              4         5           3       4       5        4\n",
       "Gordana            5         5           5       5       5        5\n",
       "Dejan              3         4           2       3       3        4\n",
       "Đorđe              4         5           3       4       5        4\n",
       "Elena              3         3           3       4       2        3\n",
       "Žaklina            5         5           4       5       4        5\n",
       "Zoran              4         5           4       4       3        5\n",
       "Ivana              2         2           2       2       2        5\n",
       "Jasna              3         4           5       4       5        5"
      ]
     },
     "execution_count": 31,
     "metadata": {},
     "output_type": "execute_result"
    }
   ],
   "source": [
    "ocene = pd.DataFrame(razred)\n",
    "ocene.columns=[\"Ime\", \"Informatika\", \"Engleski\", \"Matematika\", \"Fizika\", \"Hemija\", \"Likovno\"]\n",
    "ocene1 = ocene.set_index(\"Ime\")\n",
    "ocene1"
   ]
  },
  {
   "cell_type": "code",
   "execution_count": 32,
   "id": "44d4c026-dda6-49c3-befd-2eb8783383e3",
   "metadata": {},
   "outputs": [
    {
     "name": "stdout",
     "output_type": "stream",
     "text": [
      "Informatika -> 3.91\n",
      "Engleski -> 4.18\n",
      "Matematika -> 3.73\n",
      "Fizika -> 3.82\n",
      "Hemija -> 3.91\n",
      "Likovno -> 4.55\n"
     ]
    }
   ],
   "source": [
    "for predmet in ocene1.columns:\n",
    "    print(predmet, \"->\", round(ocene1[predmet].mean(), 2))"
   ]
  },
  {
   "cell_type": "code",
   "execution_count": 35,
   "id": "78fbb75b-b53d-4273-9d5c-38a34a9f4be6",
   "metadata": {},
   "outputs": [
    {
     "name": "stdout",
     "output_type": "stream",
     "text": [
      "Đorđe ima sledeće ocene:\n",
      "Informatika    4\n",
      "Engleski       5\n",
      "Matematika     3\n",
      "Fizika         4\n",
      "Hemija         5\n",
      "Likovno        4\n",
      "Name: Đorđe, dtype: int64\n",
      "Prosek njegovih ocena je: 4.17\n"
     ]
    }
   ],
   "source": [
    "print(\"Đorđe ima sledeće ocene:\")\n",
    "print(ocene1.loc[\"Đorđe\"])\n",
    "print(\"Prosek njegovih ocena je:\", \n",
    "      round(ocene1.loc[\"Đorđe\"].mean(), 2))"
   ]
  },
  {
   "cell_type": "code",
   "execution_count": 37,
   "id": "addcf6c7-8f71-4b94-8d2d-1f9b6d02e593",
   "metadata": {},
   "outputs": [
    {
     "name": "stdout",
     "output_type": "stream",
     "text": [
      "Ana -> 4.0\n",
      "Bojan -> 5.0\n",
      "Vlada -> 4.17\n",
      "Gordana -> 5.0\n",
      "Dejan -> 3.17\n",
      "Đorđe -> 4.17\n",
      "Elena -> 3.0\n",
      "Žaklina -> 4.67\n",
      "Zoran -> 4.17\n",
      "Ivana -> 2.5\n",
      "Jasna -> 4.33\n"
     ]
    }
   ],
   "source": [
    "for ucenik in ocene1.index:\n",
    "    print(ucenik, \"->\", round(ocene1.loc[ucenik].mean(), 2))"
   ]
  },
  {
   "cell_type": "code",
   "execution_count": 38,
   "id": "08386dc8-ee90-4ce3-b39a-604419b3d310",
   "metadata": {},
   "outputs": [
    {
     "data": {
      "text/html": [
       "<div>\n",
       "<style scoped>\n",
       "    .dataframe tbody tr th:only-of-type {\n",
       "        vertical-align: middle;\n",
       "    }\n",
       "\n",
       "    .dataframe tbody tr th {\n",
       "        vertical-align: top;\n",
       "    }\n",
       "\n",
       "    .dataframe thead th {\n",
       "        text-align: right;\n",
       "    }\n",
       "</style>\n",
       "<table border=\"1\" class=\"dataframe\">\n",
       "  <thead>\n",
       "    <tr style=\"text-align: right;\">\n",
       "      <th></th>\n",
       "      <th>Informatika</th>\n",
       "      <th>Engleski</th>\n",
       "      <th>Matematika</th>\n",
       "      <th>Fizika</th>\n",
       "      <th>Hemija</th>\n",
       "      <th>Likovno</th>\n",
       "    </tr>\n",
       "    <tr>\n",
       "      <th>Ime</th>\n",
       "      <th></th>\n",
       "      <th></th>\n",
       "      <th></th>\n",
       "      <th></th>\n",
       "      <th></th>\n",
       "      <th></th>\n",
       "    </tr>\n",
       "  </thead>\n",
       "  <tbody>\n",
       "    <tr>\n",
       "      <th>Ana</th>\n",
       "      <td>5</td>\n",
       "      <td>3</td>\n",
       "      <td>5</td>\n",
       "      <td>2</td>\n",
       "      <td>4</td>\n",
       "      <td>5</td>\n",
       "    </tr>\n",
       "    <tr>\n",
       "      <th>Bojan</th>\n",
       "      <td>5</td>\n",
       "      <td>5</td>\n",
       "      <td>5</td>\n",
       "      <td>5</td>\n",
       "      <td>5</td>\n",
       "      <td>5</td>\n",
       "    </tr>\n",
       "    <tr>\n",
       "      <th>Vlada</th>\n",
       "      <td>4</td>\n",
       "      <td>5</td>\n",
       "      <td>3</td>\n",
       "      <td>4</td>\n",
       "      <td>5</td>\n",
       "      <td>4</td>\n",
       "    </tr>\n",
       "    <tr>\n",
       "      <th>Gordana</th>\n",
       "      <td>5</td>\n",
       "      <td>5</td>\n",
       "      <td>5</td>\n",
       "      <td>5</td>\n",
       "      <td>5</td>\n",
       "      <td>5</td>\n",
       "    </tr>\n",
       "    <tr>\n",
       "      <th>Dejan</th>\n",
       "      <td>3</td>\n",
       "      <td>4</td>\n",
       "      <td>2</td>\n",
       "      <td>3</td>\n",
       "      <td>3</td>\n",
       "      <td>4</td>\n",
       "    </tr>\n",
       "    <tr>\n",
       "      <th>Đorđe</th>\n",
       "      <td>4</td>\n",
       "      <td>5</td>\n",
       "      <td>3</td>\n",
       "      <td>4</td>\n",
       "      <td>5</td>\n",
       "      <td>4</td>\n",
       "    </tr>\n",
       "    <tr>\n",
       "      <th>Elena</th>\n",
       "      <td>3</td>\n",
       "      <td>3</td>\n",
       "      <td>3</td>\n",
       "      <td>4</td>\n",
       "      <td>2</td>\n",
       "      <td>3</td>\n",
       "    </tr>\n",
       "    <tr>\n",
       "      <th>Žaklina</th>\n",
       "      <td>5</td>\n",
       "      <td>5</td>\n",
       "      <td>4</td>\n",
       "      <td>5</td>\n",
       "      <td>4</td>\n",
       "      <td>5</td>\n",
       "    </tr>\n",
       "    <tr>\n",
       "      <th>Zoran</th>\n",
       "      <td>4</td>\n",
       "      <td>5</td>\n",
       "      <td>4</td>\n",
       "      <td>4</td>\n",
       "      <td>3</td>\n",
       "      <td>5</td>\n",
       "    </tr>\n",
       "    <tr>\n",
       "      <th>Ivana</th>\n",
       "      <td>2</td>\n",
       "      <td>2</td>\n",
       "      <td>2</td>\n",
       "      <td>2</td>\n",
       "      <td>2</td>\n",
       "      <td>5</td>\n",
       "    </tr>\n",
       "    <tr>\n",
       "      <th>Jasna</th>\n",
       "      <td>3</td>\n",
       "      <td>4</td>\n",
       "      <td>5</td>\n",
       "      <td>4</td>\n",
       "      <td>5</td>\n",
       "      <td>5</td>\n",
       "    </tr>\n",
       "  </tbody>\n",
       "</table>\n",
       "</div>"
      ],
      "text/plain": [
       "         Informatika  Engleski  Matematika  Fizika  Hemija  Likovno\n",
       "Ime                                                                \n",
       "Ana                5         3           5       2       4        5\n",
       "Bojan              5         5           5       5       5        5\n",
       "Vlada              4         5           3       4       5        4\n",
       "Gordana            5         5           5       5       5        5\n",
       "Dejan              3         4           2       3       3        4\n",
       "Đorđe              4         5           3       4       5        4\n",
       "Elena              3         3           3       4       2        3\n",
       "Žaklina            5         5           4       5       4        5\n",
       "Zoran              4         5           4       4       3        5\n",
       "Ivana              2         2           2       2       2        5\n",
       "Jasna              3         4           5       4       5        5"
      ]
     },
     "execution_count": 38,
     "metadata": {},
     "output_type": "execute_result"
    }
   ],
   "source": [
    "ocene1"
   ]
  },
  {
   "cell_type": "code",
   "execution_count": 39,
   "id": "8d6c5c95-b83f-4add-a539-6cff83b319d9",
   "metadata": {},
   "outputs": [],
   "source": [
    "ocene2 = ocene1.T"
   ]
  },
  {
   "cell_type": "code",
   "execution_count": 40,
   "id": "90b1a4c0-acd0-4c8c-a375-b526484f9549",
   "metadata": {},
   "outputs": [
    {
     "data": {
      "text/html": [
       "<div>\n",
       "<style scoped>\n",
       "    .dataframe tbody tr th:only-of-type {\n",
       "        vertical-align: middle;\n",
       "    }\n",
       "\n",
       "    .dataframe tbody tr th {\n",
       "        vertical-align: top;\n",
       "    }\n",
       "\n",
       "    .dataframe thead th {\n",
       "        text-align: right;\n",
       "    }\n",
       "</style>\n",
       "<table border=\"1\" class=\"dataframe\">\n",
       "  <thead>\n",
       "    <tr style=\"text-align: right;\">\n",
       "      <th>Ime</th>\n",
       "      <th>Ana</th>\n",
       "      <th>Bojan</th>\n",
       "      <th>Vlada</th>\n",
       "      <th>Gordana</th>\n",
       "      <th>Dejan</th>\n",
       "      <th>Đorđe</th>\n",
       "      <th>Elena</th>\n",
       "      <th>Žaklina</th>\n",
       "      <th>Zoran</th>\n",
       "      <th>Ivana</th>\n",
       "      <th>Jasna</th>\n",
       "    </tr>\n",
       "  </thead>\n",
       "  <tbody>\n",
       "    <tr>\n",
       "      <th>Informatika</th>\n",
       "      <td>5</td>\n",
       "      <td>5</td>\n",
       "      <td>4</td>\n",
       "      <td>5</td>\n",
       "      <td>3</td>\n",
       "      <td>4</td>\n",
       "      <td>3</td>\n",
       "      <td>5</td>\n",
       "      <td>4</td>\n",
       "      <td>2</td>\n",
       "      <td>3</td>\n",
       "    </tr>\n",
       "    <tr>\n",
       "      <th>Engleski</th>\n",
       "      <td>3</td>\n",
       "      <td>5</td>\n",
       "      <td>5</td>\n",
       "      <td>5</td>\n",
       "      <td>4</td>\n",
       "      <td>5</td>\n",
       "      <td>3</td>\n",
       "      <td>5</td>\n",
       "      <td>5</td>\n",
       "      <td>2</td>\n",
       "      <td>4</td>\n",
       "    </tr>\n",
       "    <tr>\n",
       "      <th>Matematika</th>\n",
       "      <td>5</td>\n",
       "      <td>5</td>\n",
       "      <td>3</td>\n",
       "      <td>5</td>\n",
       "      <td>2</td>\n",
       "      <td>3</td>\n",
       "      <td>3</td>\n",
       "      <td>4</td>\n",
       "      <td>4</td>\n",
       "      <td>2</td>\n",
       "      <td>5</td>\n",
       "    </tr>\n",
       "    <tr>\n",
       "      <th>Fizika</th>\n",
       "      <td>2</td>\n",
       "      <td>5</td>\n",
       "      <td>4</td>\n",
       "      <td>5</td>\n",
       "      <td>3</td>\n",
       "      <td>4</td>\n",
       "      <td>4</td>\n",
       "      <td>5</td>\n",
       "      <td>4</td>\n",
       "      <td>2</td>\n",
       "      <td>4</td>\n",
       "    </tr>\n",
       "    <tr>\n",
       "      <th>Hemija</th>\n",
       "      <td>4</td>\n",
       "      <td>5</td>\n",
       "      <td>5</td>\n",
       "      <td>5</td>\n",
       "      <td>3</td>\n",
       "      <td>5</td>\n",
       "      <td>2</td>\n",
       "      <td>4</td>\n",
       "      <td>3</td>\n",
       "      <td>2</td>\n",
       "      <td>5</td>\n",
       "    </tr>\n",
       "    <tr>\n",
       "      <th>Likovno</th>\n",
       "      <td>5</td>\n",
       "      <td>5</td>\n",
       "      <td>4</td>\n",
       "      <td>5</td>\n",
       "      <td>4</td>\n",
       "      <td>4</td>\n",
       "      <td>3</td>\n",
       "      <td>5</td>\n",
       "      <td>5</td>\n",
       "      <td>5</td>\n",
       "      <td>5</td>\n",
       "    </tr>\n",
       "  </tbody>\n",
       "</table>\n",
       "</div>"
      ],
      "text/plain": [
       "Ime          Ana  Bojan  Vlada  Gordana  Dejan  Đorđe  Elena  Žaklina  Zoran  \\\n",
       "Informatika    5      5      4        5      3      4      3        5      4   \n",
       "Engleski       3      5      5        5      4      5      3        5      5   \n",
       "Matematika     5      5      3        5      2      3      3        4      4   \n",
       "Fizika         2      5      4        5      3      4      4        5      4   \n",
       "Hemija         4      5      5        5      3      5      2        4      3   \n",
       "Likovno        5      5      4        5      4      4      3        5      5   \n",
       "\n",
       "Ime          Ivana  Jasna  \n",
       "Informatika      2      3  \n",
       "Engleski         2      4  \n",
       "Matematika       2      5  \n",
       "Fizika           2      4  \n",
       "Hemija           2      5  \n",
       "Likovno          5      5  "
      ]
     },
     "execution_count": 40,
     "metadata": {},
     "output_type": "execute_result"
    }
   ],
   "source": [
    "ocene2"
   ]
  },
  {
   "cell_type": "code",
   "execution_count": 41,
   "id": "fa644ca3-520b-448e-8bc0-84c60b02d681",
   "metadata": {},
   "outputs": [
    {
     "data": {
      "text/plain": [
       "Index(['Ana', 'Bojan', 'Vlada', 'Gordana', 'Dejan', 'Đorđe', 'Elena',\n",
       "       'Žaklina', 'Zoran', 'Ivana', 'Jasna'],\n",
       "      dtype='object', name='Ime')"
      ]
     },
     "execution_count": 41,
     "metadata": {},
     "output_type": "execute_result"
    }
   ],
   "source": [
    "ocene1.index"
   ]
  },
  {
   "cell_type": "code",
   "execution_count": 42,
   "id": "e6d08014-1e53-4683-b427-5d663487e528",
   "metadata": {},
   "outputs": [
    {
     "data": {
      "text/plain": [
       "Index(['Informatika', 'Engleski', 'Matematika', 'Fizika', 'Hemija', 'Likovno'], dtype='object')"
      ]
     },
     "execution_count": 42,
     "metadata": {},
     "output_type": "execute_result"
    }
   ],
   "source": [
    "ocene1.columns"
   ]
  },
  {
   "cell_type": "code",
   "execution_count": 43,
   "id": "2a8356a3-d66d-42e7-968a-1f2a3ee47b3d",
   "metadata": {},
   "outputs": [
    {
     "data": {
      "text/plain": [
       "Index(['Informatika', 'Engleski', 'Matematika', 'Fizika', 'Hemija', 'Likovno'], dtype='object')"
      ]
     },
     "execution_count": 43,
     "metadata": {},
     "output_type": "execute_result"
    }
   ],
   "source": [
    "ocene2.index"
   ]
  },
  {
   "cell_type": "code",
   "execution_count": 44,
   "id": "a1b39afc-946c-4bd4-a432-98557ad0f99f",
   "metadata": {},
   "outputs": [
    {
     "data": {
      "text/plain": [
       "Index(['Ana', 'Bojan', 'Vlada', 'Gordana', 'Dejan', 'Đorđe', 'Elena',\n",
       "       'Žaklina', 'Zoran', 'Ivana', 'Jasna'],\n",
       "      dtype='object', name='Ime')"
      ]
     },
     "execution_count": 44,
     "metadata": {},
     "output_type": "execute_result"
    }
   ],
   "source": [
    "ocene2.columns"
   ]
  },
  {
   "cell_type": "code",
   "execution_count": 45,
   "id": "c02467b3-172d-4b84-81a3-05d42ebeffd6",
   "metadata": {},
   "outputs": [
    {
     "name": "stdout",
     "output_type": "stream",
     "text": [
      "Informatika -> 3.91\n",
      "Engleski -> 4.18\n",
      "Matematika -> 3.73\n",
      "Fizika -> 3.82\n",
      "Hemija -> 3.91\n",
      "Likovno -> 4.55\n"
     ]
    }
   ],
   "source": [
    "for predmet in ocene1.columns:\n",
    "    print(predmet, \"->\", round(ocene1[predmet].mean(), 2))"
   ]
  },
  {
   "cell_type": "code",
   "execution_count": 46,
   "id": "ba22a508-8ea6-49c4-b175-b8e6d3b90390",
   "metadata": {},
   "outputs": [
    {
     "name": "stdout",
     "output_type": "stream",
     "text": [
      "Ana -> 4.0\n",
      "Bojan -> 5.0\n",
      "Vlada -> 4.17\n",
      "Gordana -> 5.0\n",
      "Dejan -> 3.17\n",
      "Đorđe -> 4.17\n",
      "Elena -> 3.0\n",
      "Žaklina -> 4.67\n",
      "Zoran -> 4.17\n",
      "Ivana -> 2.5\n",
      "Jasna -> 4.33\n"
     ]
    }
   ],
   "source": [
    "for ucenik in ocene2.columns:\n",
    "    print(ucenik, \"->\", round(ocene2[ucenik].mean(), 2))"
   ]
  }
 ],
 "metadata": {
  "kernelspec": {
   "display_name": "Python 3",
   "language": "python",
   "name": "python3"
  },
  "language_info": {
   "codemirror_mode": {
    "name": "ipython",
    "version": 3
   },
   "file_extension": ".py",
   "mimetype": "text/x-python",
   "name": "python",
   "nbconvert_exporter": "python",
   "pygments_lexer": "ipython3",
   "version": "3.9.1"
  },
  "vscode": {
   "interpreter": {
    "hash": "1e53f9a0cb753ca1ab390bc7dc4ba26e7e3a3e2e11ea0cedd936bd3da914dc0f"
   }
  }
 },
 "nbformat": 4,
 "nbformat_minor": 5
}
